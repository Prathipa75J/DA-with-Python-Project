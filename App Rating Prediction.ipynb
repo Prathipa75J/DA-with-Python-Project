{
 "cells": [
  {
   "cell_type": "markdown",
   "id": "583abcb2",
   "metadata": {},
   "source": [
    "# Programming Basics and Data Analytics with Python  \n",
    "## **Project Title: APP RATING PREDICTION**\n"
   ]
  },
  {
   "cell_type": "markdown",
   "id": "3a8a275a",
   "metadata": {},
   "source": [
    "*Importing necessary packages* "
   ]
  },
  {
   "cell_type": "code",
   "execution_count": 3,
   "id": "9843bd9a",
   "metadata": {},
   "outputs": [],
   "source": [
    "import numpy as np\n",
    "import pandas as pd\n",
    "import matplotlib.pyplot as mlt\n",
    "import seaborn as sns\n",
    "from sklearn.model_selection import train_test_split\n",
    "from sklearn import linear_model\n",
    "import statsmodels.api as sm\n",
    "from sklearn.metrics import r2_score"
   ]
  },
  {
   "cell_type": "markdown",
   "id": "adbfaa97",
   "metadata": {},
   "source": [
    "## Questions:\n"
   ]
  },
  {
   "cell_type": "markdown",
   "id": "0212594b",
   "metadata": {},
   "source": [
    "**1. Load the data file using pandas**"
   ]
  },
  {
   "cell_type": "code",
   "execution_count": 5,
   "id": "9f4ebe13",
   "metadata": {},
   "outputs": [
    {
     "data": {
      "text/html": [
       "<div>\n",
       "<style scoped>\n",
       "    .dataframe tbody tr th:only-of-type {\n",
       "        vertical-align: middle;\n",
       "    }\n",
       "\n",
       "    .dataframe tbody tr th {\n",
       "        vertical-align: top;\n",
       "    }\n",
       "\n",
       "    .dataframe thead th {\n",
       "        text-align: right;\n",
       "    }\n",
       "</style>\n",
       "<table border=\"1\" class=\"dataframe\">\n",
       "  <thead>\n",
       "    <tr style=\"text-align: right;\">\n",
       "      <th></th>\n",
       "      <th>App</th>\n",
       "      <th>Category</th>\n",
       "      <th>Rating</th>\n",
       "      <th>Reviews</th>\n",
       "      <th>Size</th>\n",
       "      <th>Installs</th>\n",
       "      <th>Type</th>\n",
       "      <th>Price</th>\n",
       "      <th>Content Rating</th>\n",
       "      <th>Genres</th>\n",
       "      <th>Last Updated</th>\n",
       "      <th>Current Ver</th>\n",
       "      <th>Android Ver</th>\n",
       "    </tr>\n",
       "  </thead>\n",
       "  <tbody>\n",
       "    <tr>\n",
       "      <th>0</th>\n",
       "      <td>Photo Editor &amp; Candy Camera &amp; Grid &amp; ScrapBook</td>\n",
       "      <td>ART_AND_DESIGN</td>\n",
       "      <td>4.1</td>\n",
       "      <td>159</td>\n",
       "      <td>19M</td>\n",
       "      <td>10,000+</td>\n",
       "      <td>Free</td>\n",
       "      <td>0</td>\n",
       "      <td>Everyone</td>\n",
       "      <td>Art &amp; Design</td>\n",
       "      <td>January 7, 2018</td>\n",
       "      <td>1.0.0</td>\n",
       "      <td>4.0.3 and up</td>\n",
       "    </tr>\n",
       "    <tr>\n",
       "      <th>1</th>\n",
       "      <td>Coloring book moana</td>\n",
       "      <td>ART_AND_DESIGN</td>\n",
       "      <td>3.9</td>\n",
       "      <td>967</td>\n",
       "      <td>14M</td>\n",
       "      <td>500,000+</td>\n",
       "      <td>Free</td>\n",
       "      <td>0</td>\n",
       "      <td>Everyone</td>\n",
       "      <td>Art &amp; Design;Pretend Play</td>\n",
       "      <td>January 15, 2018</td>\n",
       "      <td>2.0.0</td>\n",
       "      <td>4.0.3 and up</td>\n",
       "    </tr>\n",
       "    <tr>\n",
       "      <th>2</th>\n",
       "      <td>U Launcher Lite – FREE Live Cool Themes, Hide ...</td>\n",
       "      <td>ART_AND_DESIGN</td>\n",
       "      <td>4.7</td>\n",
       "      <td>87510</td>\n",
       "      <td>8.7M</td>\n",
       "      <td>5,000,000+</td>\n",
       "      <td>Free</td>\n",
       "      <td>0</td>\n",
       "      <td>Everyone</td>\n",
       "      <td>Art &amp; Design</td>\n",
       "      <td>August 1, 2018</td>\n",
       "      <td>1.2.4</td>\n",
       "      <td>4.0.3 and up</td>\n",
       "    </tr>\n",
       "    <tr>\n",
       "      <th>3</th>\n",
       "      <td>Sketch - Draw &amp; Paint</td>\n",
       "      <td>ART_AND_DESIGN</td>\n",
       "      <td>4.5</td>\n",
       "      <td>215644</td>\n",
       "      <td>25M</td>\n",
       "      <td>50,000,000+</td>\n",
       "      <td>Free</td>\n",
       "      <td>0</td>\n",
       "      <td>Teen</td>\n",
       "      <td>Art &amp; Design</td>\n",
       "      <td>June 8, 2018</td>\n",
       "      <td>Varies with device</td>\n",
       "      <td>4.2 and up</td>\n",
       "    </tr>\n",
       "    <tr>\n",
       "      <th>4</th>\n",
       "      <td>Pixel Draw - Number Art Coloring Book</td>\n",
       "      <td>ART_AND_DESIGN</td>\n",
       "      <td>4.3</td>\n",
       "      <td>967</td>\n",
       "      <td>2.8M</td>\n",
       "      <td>100,000+</td>\n",
       "      <td>Free</td>\n",
       "      <td>0</td>\n",
       "      <td>Everyone</td>\n",
       "      <td>Art &amp; Design;Creativity</td>\n",
       "      <td>June 20, 2018</td>\n",
       "      <td>1.1</td>\n",
       "      <td>4.4 and up</td>\n",
       "    </tr>\n",
       "  </tbody>\n",
       "</table>\n",
       "</div>"
      ],
      "text/plain": [
       "                                                 App        Category  Rating  \\\n",
       "0     Photo Editor & Candy Camera & Grid & ScrapBook  ART_AND_DESIGN     4.1   \n",
       "1                                Coloring book moana  ART_AND_DESIGN     3.9   \n",
       "2  U Launcher Lite – FREE Live Cool Themes, Hide ...  ART_AND_DESIGN     4.7   \n",
       "3                              Sketch - Draw & Paint  ART_AND_DESIGN     4.5   \n",
       "4              Pixel Draw - Number Art Coloring Book  ART_AND_DESIGN     4.3   \n",
       "\n",
       "  Reviews  Size     Installs  Type Price Content Rating  \\\n",
       "0     159   19M      10,000+  Free     0       Everyone   \n",
       "1     967   14M     500,000+  Free     0       Everyone   \n",
       "2   87510  8.7M   5,000,000+  Free     0       Everyone   \n",
       "3  215644   25M  50,000,000+  Free     0           Teen   \n",
       "4     967  2.8M     100,000+  Free     0       Everyone   \n",
       "\n",
       "                      Genres      Last Updated         Current Ver  \\\n",
       "0               Art & Design   January 7, 2018               1.0.0   \n",
       "1  Art & Design;Pretend Play  January 15, 2018               2.0.0   \n",
       "2               Art & Design    August 1, 2018               1.2.4   \n",
       "3               Art & Design      June 8, 2018  Varies with device   \n",
       "4    Art & Design;Creativity     June 20, 2018                 1.1   \n",
       "\n",
       "    Android Ver  \n",
       "0  4.0.3 and up  \n",
       "1  4.0.3 and up  \n",
       "2  4.0.3 and up  \n",
       "3    4.2 and up  \n",
       "4    4.4 and up  "
      ]
     },
     "execution_count": 5,
     "metadata": {},
     "output_type": "execute_result"
    }
   ],
   "source": [
    "df = pd.read_csv('C:/Users/PRATHIPA/Desktop/DA Capstone Projects/1569582940_googleplaystore/googleplaystore.csv')\n",
    "df.head()"
   ]
  },
  {
   "cell_type": "markdown",
   "id": "6e9d3a4b",
   "metadata": {},
   "source": [
    "> * Read .CSV file using read_csv() method from pandas, and stored it in a data frame named `df`."
   ]
  },
  {
   "cell_type": "markdown",
   "id": "e36db5eb",
   "metadata": {},
   "source": [
    "**2. Check for null values in the data. Get the number of null values for each column.** "
   ]
  },
  {
   "cell_type": "code",
   "execution_count": 6,
   "id": "7f2c9842",
   "metadata": {},
   "outputs": [
    {
     "data": {
      "text/plain": [
       "App                  0\n",
       "Category             0\n",
       "Rating            1474\n",
       "Reviews              0\n",
       "Size                 0\n",
       "Installs             0\n",
       "Type                 1\n",
       "Price                0\n",
       "Content Rating       1\n",
       "Genres               0\n",
       "Last Updated         0\n",
       "Current Ver          8\n",
       "Android Ver          3\n",
       "dtype: int64"
      ]
     },
     "execution_count": 6,
     "metadata": {},
     "output_type": "execute_result"
    }
   ],
   "source": [
    "df.isnull().sum()"
   ]
  },
  {
   "cell_type": "markdown",
   "id": "d83d5161",
   "metadata": {},
   "source": [
    "> * Checked for null values in each column using **isnull.sum()** method to get the count of null values.\n",
    "> * Use `DROPNA()` method to drop all NA values "
   ]
  },
  {
   "cell_type": "markdown",
   "id": "cdf88164",
   "metadata": {},
   "source": [
    "**3. Drop records with nulls in any of the columns.** "
   ]
  },
  {
   "cell_type": "code",
   "execution_count": 8,
   "id": "b763a4b2",
   "metadata": {},
   "outputs": [
    {
     "data": {
      "text/html": [
       "<div>\n",
       "<style scoped>\n",
       "    .dataframe tbody tr th:only-of-type {\n",
       "        vertical-align: middle;\n",
       "    }\n",
       "\n",
       "    .dataframe tbody tr th {\n",
       "        vertical-align: top;\n",
       "    }\n",
       "\n",
       "    .dataframe thead th {\n",
       "        text-align: right;\n",
       "    }\n",
       "</style>\n",
       "<table border=\"1\" class=\"dataframe\">\n",
       "  <thead>\n",
       "    <tr style=\"text-align: right;\">\n",
       "      <th></th>\n",
       "      <th>App</th>\n",
       "      <th>Category</th>\n",
       "      <th>Rating</th>\n",
       "      <th>Reviews</th>\n",
       "      <th>Size</th>\n",
       "      <th>Installs</th>\n",
       "      <th>Type</th>\n",
       "      <th>Price</th>\n",
       "      <th>Content Rating</th>\n",
       "      <th>Genres</th>\n",
       "      <th>Last Updated</th>\n",
       "      <th>Current Ver</th>\n",
       "      <th>Android Ver</th>\n",
       "    </tr>\n",
       "  </thead>\n",
       "  <tbody>\n",
       "    <tr>\n",
       "      <th>0</th>\n",
       "      <td>Photo Editor &amp; Candy Camera &amp; Grid &amp; ScrapBook</td>\n",
       "      <td>ART_AND_DESIGN</td>\n",
       "      <td>4.1</td>\n",
       "      <td>159</td>\n",
       "      <td>19M</td>\n",
       "      <td>10,000+</td>\n",
       "      <td>Free</td>\n",
       "      <td>0</td>\n",
       "      <td>Everyone</td>\n",
       "      <td>Art &amp; Design</td>\n",
       "      <td>January 7, 2018</td>\n",
       "      <td>1.0.0</td>\n",
       "      <td>4.0.3 and up</td>\n",
       "    </tr>\n",
       "    <tr>\n",
       "      <th>1</th>\n",
       "      <td>Coloring book moana</td>\n",
       "      <td>ART_AND_DESIGN</td>\n",
       "      <td>3.9</td>\n",
       "      <td>967</td>\n",
       "      <td>14M</td>\n",
       "      <td>500,000+</td>\n",
       "      <td>Free</td>\n",
       "      <td>0</td>\n",
       "      <td>Everyone</td>\n",
       "      <td>Art &amp; Design;Pretend Play</td>\n",
       "      <td>January 15, 2018</td>\n",
       "      <td>2.0.0</td>\n",
       "      <td>4.0.3 and up</td>\n",
       "    </tr>\n",
       "    <tr>\n",
       "      <th>2</th>\n",
       "      <td>U Launcher Lite – FREE Live Cool Themes, Hide ...</td>\n",
       "      <td>ART_AND_DESIGN</td>\n",
       "      <td>4.7</td>\n",
       "      <td>87510</td>\n",
       "      <td>8.7M</td>\n",
       "      <td>5,000,000+</td>\n",
       "      <td>Free</td>\n",
       "      <td>0</td>\n",
       "      <td>Everyone</td>\n",
       "      <td>Art &amp; Design</td>\n",
       "      <td>August 1, 2018</td>\n",
       "      <td>1.2.4</td>\n",
       "      <td>4.0.3 and up</td>\n",
       "    </tr>\n",
       "    <tr>\n",
       "      <th>3</th>\n",
       "      <td>Sketch - Draw &amp; Paint</td>\n",
       "      <td>ART_AND_DESIGN</td>\n",
       "      <td>4.5</td>\n",
       "      <td>215644</td>\n",
       "      <td>25M</td>\n",
       "      <td>50,000,000+</td>\n",
       "      <td>Free</td>\n",
       "      <td>0</td>\n",
       "      <td>Teen</td>\n",
       "      <td>Art &amp; Design</td>\n",
       "      <td>June 8, 2018</td>\n",
       "      <td>Varies with device</td>\n",
       "      <td>4.2 and up</td>\n",
       "    </tr>\n",
       "    <tr>\n",
       "      <th>4</th>\n",
       "      <td>Pixel Draw - Number Art Coloring Book</td>\n",
       "      <td>ART_AND_DESIGN</td>\n",
       "      <td>4.3</td>\n",
       "      <td>967</td>\n",
       "      <td>2.8M</td>\n",
       "      <td>100,000+</td>\n",
       "      <td>Free</td>\n",
       "      <td>0</td>\n",
       "      <td>Everyone</td>\n",
       "      <td>Art &amp; Design;Creativity</td>\n",
       "      <td>June 20, 2018</td>\n",
       "      <td>1.1</td>\n",
       "      <td>4.4 and up</td>\n",
       "    </tr>\n",
       "  </tbody>\n",
       "</table>\n",
       "</div>"
      ],
      "text/plain": [
       "                                                 App        Category  Rating  \\\n",
       "0     Photo Editor & Candy Camera & Grid & ScrapBook  ART_AND_DESIGN     4.1   \n",
       "1                                Coloring book moana  ART_AND_DESIGN     3.9   \n",
       "2  U Launcher Lite – FREE Live Cool Themes, Hide ...  ART_AND_DESIGN     4.7   \n",
       "3                              Sketch - Draw & Paint  ART_AND_DESIGN     4.5   \n",
       "4              Pixel Draw - Number Art Coloring Book  ART_AND_DESIGN     4.3   \n",
       "\n",
       "  Reviews  Size     Installs  Type Price Content Rating  \\\n",
       "0     159   19M      10,000+  Free     0       Everyone   \n",
       "1     967   14M     500,000+  Free     0       Everyone   \n",
       "2   87510  8.7M   5,000,000+  Free     0       Everyone   \n",
       "3  215644   25M  50,000,000+  Free     0           Teen   \n",
       "4     967  2.8M     100,000+  Free     0       Everyone   \n",
       "\n",
       "                      Genres      Last Updated         Current Ver  \\\n",
       "0               Art & Design   January 7, 2018               1.0.0   \n",
       "1  Art & Design;Pretend Play  January 15, 2018               2.0.0   \n",
       "2               Art & Design    August 1, 2018               1.2.4   \n",
       "3               Art & Design      June 8, 2018  Varies with device   \n",
       "4    Art & Design;Creativity     June 20, 2018                 1.1   \n",
       "\n",
       "    Android Ver  \n",
       "0  4.0.3 and up  \n",
       "1  4.0.3 and up  \n",
       "2  4.0.3 and up  \n",
       "3    4.2 and up  \n",
       "4    4.4 and up  "
      ]
     },
     "execution_count": 8,
     "metadata": {},
     "output_type": "execute_result"
    }
   ],
   "source": [
    "df.dropna(inplace=True)\n",
    "df.head()"
   ]
  },
  {
   "cell_type": "markdown",
   "id": "e6883c3e",
   "metadata": {},
   "source": [
    "**4. Variables seem to have incorrect type and inconsistent formatting. You need to fix them:  <br>**\n",
    "\n",
    "*4.1 Size column has sizes in Kb as well as Mb. To analyze, you’ll need to convert these to numeric. <br>*\n",
    "       \n",
    "*4.1.1 Extract the numeric value from the column.*\n"
   ]
  },
  {
   "cell_type": "code",
   "execution_count": 9,
   "id": "f716f350",
   "metadata": {},
   "outputs": [],
   "source": [
    "indexNames=df[df['Size']=='Varies with device'].index\n",
    "df.drop(indexNames,inplace=True)\n"
   ]
  },
  {
   "cell_type": "markdown",
   "id": "2686ca81",
   "metadata": {},
   "source": [
    "> *FIrst of all drop rows having size as `Varies with device`. As it is not going to help us predict our model."
   ]
  },
  {
   "cell_type": "code",
   "execution_count": 10,
   "id": "aad9f632",
   "metadata": {},
   "outputs": [
    {
     "data": {
      "text/plain": [
       "0        M\n",
       "1        M\n",
       "2        M\n",
       "3        M\n",
       "4        M\n",
       "        ..\n",
       "10833    k\n",
       "10834    M\n",
       "10836    M\n",
       "10837    M\n",
       "10840    M\n",
       "Name: Size_M, Length: 7723, dtype: object"
      ]
     },
     "execution_count": 10,
     "metadata": {},
     "output_type": "execute_result"
    }
   ],
   "source": [
    "\n",
    "df['Size_M']=df['Size'].str[-1]\n",
    "df['Size_M']"
   ]
  },
  {
   "cell_type": "markdown",
   "id": "acbfbc03",
   "metadata": {},
   "source": [
    "> * Extract the last letter from the size columnn which denotes `m` is Mb. `k` is Kb. so it helps to convert our column to a numeric field."
   ]
  },
  {
   "cell_type": "code",
   "execution_count": 11,
   "id": "33798423",
   "metadata": {},
   "outputs": [
    {
     "data": {
      "text/plain": [
       "0         19\n",
       "1         14\n",
       "2        8.7\n",
       "3         25\n",
       "4        2.8\n",
       "        ... \n",
       "10833    619\n",
       "10834    2.6\n",
       "10836     53\n",
       "10837    3.6\n",
       "10840     19\n",
       "Name: Size_V, Length: 7723, dtype: object"
      ]
     },
     "execution_count": 11,
     "metadata": {},
     "output_type": "execute_result"
    }
   ],
   "source": [
    "df['Size_V']=df['Size'].str[:-1]\n",
    "df['Size_V']"
   ]
  },
  {
   "cell_type": "markdown",
   "id": "9e18e5a4",
   "metadata": {},
   "source": [
    "> * Extract the numeric value which means the size of the apps and convert the column to float data type"
   ]
  },
  {
   "cell_type": "code",
   "execution_count": 12,
   "id": "21b713e0",
   "metadata": {},
   "outputs": [],
   "source": [
    "df['Size_F']=df.Size_V.astype('float')"
   ]
  },
  {
   "cell_type": "markdown",
   "id": "075ecdea",
   "metadata": {},
   "source": [
    "*4.1.2 Multiply the value by 1,000, if size is mentioned in Mb*"
   ]
  },
  {
   "cell_type": "code",
   "execution_count": 13,
   "id": "20b2131f",
   "metadata": {},
   "outputs": [
    {
     "data": {
      "text/plain": [
       "0        19000.0\n",
       "1        14000.0\n",
       "2         8700.0\n",
       "3        25000.0\n",
       "4         2800.0\n",
       "          ...   \n",
       "10833      619.0\n",
       "10834     2600.0\n",
       "10836    53000.0\n",
       "10837     3600.0\n",
       "10840    19000.0\n",
       "Name: Size_F, Length: 7723, dtype: float64"
      ]
     },
     "execution_count": 13,
     "metadata": {},
     "output_type": "execute_result"
    }
   ],
   "source": [
    "df.loc[df['Size_M'] =='M','Size_F'] = df['Size_F']*1000\n",
    "df['Size_F']"
   ]
  },
  {
   "cell_type": "markdown",
   "id": "ed417b59",
   "metadata": {},
   "source": [
    "> * Multiplied all Mb values with 1000 and got all the values in the same size that is in kb and stored the values in new column names `Size_F`."
   ]
  },
  {
   "cell_type": "markdown",
   "id": "35ac5c99",
   "metadata": {},
   "source": [
    "***As we got our structured size column, then lets delete other columns related to size.***"
   ]
  },
  {
   "cell_type": "code",
   "execution_count": 14,
   "id": "04c646d0",
   "metadata": {},
   "outputs": [],
   "source": [
    "del df['Size_V']\n",
    "del df['Size_M']\n",
    "del df['Size']"
   ]
  },
  {
   "cell_type": "markdown",
   "id": "6ab65b3c",
   "metadata": {},
   "source": [
    "*4.2 Reviews is a numeric field that is loaded as a string field. Convert it to numeric (int/float).*"
   ]
  },
  {
   "cell_type": "code",
   "execution_count": 15,
   "id": "13605248",
   "metadata": {},
   "outputs": [],
   "source": [
    "df['Reviews_I'] = df.Reviews.astype('int')"
   ]
  },
  {
   "cell_type": "code",
   "execution_count": 16,
   "id": "75c4f8b0",
   "metadata": {},
   "outputs": [
    {
     "name": "stdout",
     "output_type": "stream",
     "text": [
      "<class 'pandas.core.frame.DataFrame'>\n",
      "Int64Index: 7723 entries, 0 to 10840\n",
      "Data columns (total 13 columns):\n",
      " #   Column          Non-Null Count  Dtype  \n",
      "---  ------          --------------  -----  \n",
      " 0   App             7723 non-null   object \n",
      " 1   Category        7723 non-null   object \n",
      " 2   Rating          7723 non-null   float64\n",
      " 3   Installs        7723 non-null   object \n",
      " 4   Type            7723 non-null   object \n",
      " 5   Price           7723 non-null   object \n",
      " 6   Content Rating  7723 non-null   object \n",
      " 7   Genres          7723 non-null   object \n",
      " 8   Last Updated    7723 non-null   object \n",
      " 9   Current Ver     7723 non-null   object \n",
      " 10  Android Ver     7723 non-null   object \n",
      " 11  Size_F          7723 non-null   float64\n",
      " 12  Reviews_I       7723 non-null   int32  \n",
      "dtypes: float64(2), int32(1), object(10)\n",
      "memory usage: 1.0+ MB\n"
     ]
    }
   ],
   "source": [
    "del df['Reviews']\n",
    "df.info()"
   ]
  },
  {
   "cell_type": "markdown",
   "id": "5ee29160",
   "metadata": {},
   "source": [
    "**4.3 Installs field is currently stored as string and has values like 1,000,000+. <br>**\n",
    "\n",
    "*4.3.1 Treat 1,000,000+ as 1,000,000*\n",
    "\n",
    "*4.3.2 remove ‘+’, ‘,’ from the field, convert it to integer*"
   ]
  },
  {
   "cell_type": "code",
   "execution_count": 17,
   "id": "45f8a0d3",
   "metadata": {},
   "outputs": [],
   "source": [
    "df['Install_V']=df['Installs'].str.replace('[,,+]','',regex=True).astype('int')"
   ]
  },
  {
   "cell_type": "code",
   "execution_count": 18,
   "id": "371e6e4f",
   "metadata": {},
   "outputs": [],
   "source": [
    "df['Install_V']\n",
    "del df['Installs']"
   ]
  },
  {
   "cell_type": "markdown",
   "id": "c66f4d63",
   "metadata": {},
   "source": [
    "> Extracted only numeric values from install column by replacing `, and +` sign with ` ` and converted the values to `int` type and named the coulmn as Install_V. Finally dropped the old install column."
   ]
  },
  {
   "cell_type": "markdown",
   "id": "31cfebe6",
   "metadata": {},
   "source": [
    "*4.4 Price field is a string and has **Dollar** symbol. Remove **Dollar** sign, and convert it to numeric.*"
   ]
  },
  {
   "cell_type": "code",
   "execution_count": 20,
   "id": "cd43e7f0",
   "metadata": {},
   "outputs": [
    {
     "data": {
      "text/plain": [
       "0    0.0\n",
       "1    0.0\n",
       "2    0.0\n",
       "3    0.0\n",
       "4    0.0\n",
       "Name: Price_C, dtype: float64"
      ]
     },
     "execution_count": 20,
     "metadata": {},
     "output_type": "execute_result"
    }
   ],
   "source": [
    "df['Price_C']=df['Price'].str.replace('$','',regex=True).astype('float')\n",
    "df['Price_C'].head()"
   ]
  },
  {
   "cell_type": "code",
   "execution_count": 21,
   "id": "5942a226",
   "metadata": {},
   "outputs": [],
   "source": [
    "del df['Price']"
   ]
  },
  {
   "cell_type": "markdown",
   "id": "3997d295",
   "metadata": {},
   "source": [
    ">  Removed `$` symbol using replace method and converted price column from string to float. "
   ]
  },
  {
   "cell_type": "markdown",
   "id": "b7ba89cf",
   "metadata": {},
   "source": [
    "**5. Sanity checks:**"
   ]
  },
  {
   "cell_type": "markdown",
   "id": "4497539d",
   "metadata": {},
   "source": [
    "*5.1 Average rating should be between 1 and 5 as only these values are allowed on the play store.Drop the rows that have a value outside this range.*"
   ]
  },
  {
   "cell_type": "code",
   "execution_count": 22,
   "id": "e7dfa952",
   "metadata": {},
   "outputs": [],
   "source": [
    "indexNames = df[df['Rating']> 5].index\n",
    "df.drop(indexNames,inplace=True)           "
   ]
  },
  {
   "cell_type": "markdown",
   "id": "ed1be37b",
   "metadata": {},
   "source": [
    "> Dropped rows having more than Rating value 5."
   ]
  },
  {
   "cell_type": "markdown",
   "id": "b603285f",
   "metadata": {},
   "source": [
    "*5.2 Reviews should not be more than installs as only those who installed can review the app. If there are any such records, drop them.*"
   ]
  },
  {
   "cell_type": "code",
   "execution_count": 23,
   "id": "836533b9",
   "metadata": {},
   "outputs": [],
   "source": [
    "indexNames = df[df['Reviews_I']> df['Install_V']].index\n",
    "indexNames\n",
    "df.drop(indexNames,inplace=True)"
   ]
  },
  {
   "cell_type": "markdown",
   "id": "ef587d5b",
   "metadata": {},
   "source": [
    "> Dropped rows having more reviews than installs."
   ]
  },
  {
   "cell_type": "markdown",
   "id": "fd1adb58",
   "metadata": {},
   "source": [
    "*5.3 For free apps (type = “Free”), the price should not be >0. Drop any such rows.*"
   ]
  },
  {
   "cell_type": "code",
   "execution_count": 24,
   "id": "c4a7e627",
   "metadata": {},
   "outputs": [],
   "source": [
    "indexNames = df[(df['Type']=='Free') & (df['Price_C']>0)].index\n",
    "df.drop(indexNames,inplace=True)"
   ]
  },
  {
   "cell_type": "markdown",
   "id": "3ad91e62",
   "metadata": {},
   "source": [
    "> Dropped rows if the app type is free and the price value is greater than zero."
   ]
  },
  {
   "cell_type": "markdown",
   "id": "2bdea81a",
   "metadata": {},
   "source": [
    "**6. Performing univariate analysis** "
   ]
  },
  {
   "cell_type": "markdown",
   "id": "2844d8d4",
   "metadata": {},
   "source": [
    "**6.1 Boxplot for Price <br>**\n",
    "*Are there any outliers? Think about the price of usual apps on Play Store.*"
   ]
  },
  {
   "cell_type": "code",
   "execution_count": 21,
   "id": "21831a7d",
   "metadata": {},
   "outputs": [
    {
     "data": {
      "text/plain": [
       "<AxesSubplot:>"
      ]
     },
     "execution_count": 21,
     "metadata": {},
     "output_type": "execute_result"
    },
    {
     "data": {
      "image/png": "[encoded data removed]",
      "text/plain": [
       "<Figure size 432x288 with 1 Axes>"
      ]
     },
     "metadata": {
      "needs_background": "light"
     },
     "output_type": "display_data"
    }
   ],
   "source": [
    "df['Price_C'].plot.box()\n"
   ]
  },
  {
   "cell_type": "markdown",
   "id": "cbf94463",
   "metadata": {},
   "source": [
    "**6.2 Boxplot for Reviews <br>**\n",
    "*Are there any apps with very high number of reviews? Do the values seem right?*"
   ]
  },
  {
   "cell_type": "code",
   "execution_count": 22,
   "id": "8a0e53f6",
   "metadata": {},
   "outputs": [
    {
     "data": {
      "text/plain": [
       "<AxesSubplot:>"
      ]
     },
     "execution_count": 22,
     "metadata": {},
     "output_type": "execute_result"
    },
    {
     "data": {
      "image/png": "[encoded data removed]",
      "text/plain": [
       "<Figure size 432x288 with 1 Axes>"
      ]
     },
     "metadata": {
      "needs_background": "light"
     },
     "output_type": "display_data"
    }
   ],
   "source": [
    "df['Reviews_I'].plot.box()\n"
   ]
  },
  {
   "cell_type": "markdown",
   "id": "ca8992ab",
   "metadata": {},
   "source": [
    "**6.3 Histogram for Rating<br>**\n",
    "*How are the ratings distributed? Is it more toward higher ratings?*"
   ]
  },
  {
   "cell_type": "code",
   "execution_count": 23,
   "id": "82676744",
   "metadata": {},
   "outputs": [
    {
     "data": {
      "image/png": "[encoded data removed]",
      "text/plain": [
       "<Figure size 432x288 with 1 Axes>"
      ]
     },
     "metadata": {
      "needs_background": "light"
     },
     "output_type": "display_data"
    }
   ],
   "source": [
    "mlt.hist(df['Rating'])\n",
    "\n",
    "mlt.show()"
   ]
  },
  {
   "cell_type": "markdown",
   "id": "d72d0d24",
   "metadata": {},
   "source": [
    "    6.4 Histogram for Size\n",
    "    "
   ]
  },
  {
   "cell_type": "code",
   "execution_count": 24,
   "id": "236aaefc",
   "metadata": {},
   "outputs": [
    {
     "data": {
      "image/png": "[encoded data removed]",
      "text/plain": [
       "<Figure size 432x288 with 1 Axes>"
      ]
     },
     "metadata": {
      "needs_background": "light"
     },
     "output_type": "display_data"
    }
   ],
   "source": [
    "mlt.hist(df['Size_F'])\n",
    "mlt.show()"
   ]
  },
  {
   "cell_type": "markdown",
   "id": "4263107b",
   "metadata": {},
   "source": [
    "> **Observations:<br>**\n",
    ">        \n",
    ">    1. In the first two box plots (price and Reviews) there are just a lot of zeros for those groups.\n",
    ">       That means all quartiles are 0 (hence the box is reduced to a line), and we are left with the outliers (the points)\n",
    ">   \n",
    ">    2. Rating Histogram *  is  a left-skewed histogram. It  has a peak to the right of center, with the mode closer to the \n",
    ">       right and greater than either mean or median. \n",
    ">    \n",
    ">    3. This shape indicates that the preponderance of any outliers is lesser than the mode. and the peak shows the   \n",
    ">       data is more towards higher rating.\n",
    ">            \n",
    ">    4. Size Histogram* is right skewed histogram. it has a peak to the left of center. <br>\n",
    ">    \n",
    ">    5. In this mode is closer to the left and lesser than either mean or median.\n",
    "            \n",
    "    "
   ]
  },
  {
   "cell_type": "markdown",
   "id": "25a9e07e",
   "metadata": {},
   "source": [
    "**7. Outlier Treatment**"
   ]
  },
  {
   "cell_type": "markdown",
   "id": "9e6ef7ab",
   "metadata": {},
   "source": [
    "**7.1 Price: From the box plot, it seems like there are some apps with very high price.<br>**\n",
    "**A price of `$200` for an application on the Play Store is very high and suspicious!<br>**\n",
    "    *Check out the records with very high price<br>*\n",
    "    *7.1.1 Is 200 indeed a high price?<br>*\n",
    "    *7.1.2 Drop these as most seem to be junk apps<br>*"
   ]
  },
  {
   "cell_type": "code",
   "execution_count": 25,
   "id": "e9c4c4e7",
   "metadata": {},
   "outputs": [],
   "source": [
    "df.drop(df[df['Price_C']>=200].index,inplace=True)"
   ]
  },
  {
   "cell_type": "markdown",
   "id": "f2c40a74",
   "metadata": {},
   "source": [
    ">**Observations**\n",
    ">    1. Looking at the box plot we can say our records have with very high price.\n",
    ">    2. Indeed `$200` is a high price, so we dropped all the rows having price greater than or equals to 200.\n",
    "    "
   ]
  },
  {
   "cell_type": "markdown",
   "id": "ceb1bfec",
   "metadata": {},
   "source": [
    "**7.2 Reviews: Very few apps have very high number of reviews.<br>** \n",
    "    *These are all star apps that don’t help with the analysis and, in fact, will skew it.* \n",
    "    *Drop records having more than 2 million reviews.*"
   ]
  },
  {
   "cell_type": "code",
   "execution_count": 26,
   "id": "f35f2c34",
   "metadata": {},
   "outputs": [],
   "source": [
    "df.drop(df[df['Reviews_I']>2000000].index,inplace=True)"
   ]
  },
  {
   "cell_type": "markdown",
   "id": "0b01e7a3",
   "metadata": {},
   "source": [
    ">**Observations**\n",
    ">1. Dropped star apps having more than 2 million reviews.\n"
   ]
  },
  {
   "cell_type": "markdown",
   "id": "32a4735d",
   "metadata": {},
   "source": [
    "**7.3 Installs:  There seems to be some outliers in this field too. Apps having very high number of installs should be dropped from the analysis.<br>**\n",
    "    *7.3.1 Find out the different percentiles – 10, 25, 50, 70, 90, 95, 99<br>*\n",
    "    *7.3.2 Decide a threshold as cutoff for outlier and drop records having values more than that*"
   ]
  },
  {
   "cell_type": "code",
   "execution_count": 27,
   "id": "9da2ec4a",
   "metadata": {},
   "outputs": [
    {
     "data": {
      "text/plain": [
       "0.10        1000.0\n",
       "0.25       10000.0\n",
       "0.50      100000.0\n",
       "0.70     1000000.0\n",
       "0.90    10000000.0\n",
       "0.95    10000000.0\n",
       "0.99    50000000.0\n",
       "Name: Install_V, dtype: float64"
      ]
     },
     "execution_count": 27,
     "metadata": {},
     "output_type": "execute_result"
    }
   ],
   "source": [
    "# Percentiles using quantile() from pandas.\n",
    "df.Install_V.quantile([0.1,0.25,0.5,0.7,0.9,0.95,0.99])\n"
   ]
  },
  {
   "cell_type": "code",
   "execution_count": 28,
   "id": "1a382d25",
   "metadata": {},
   "outputs": [
    {
     "data": {
      "text/html": [
       "<div>\n",
       "<style scoped>\n",
       "    .dataframe tbody tr th:only-of-type {\n",
       "        vertical-align: middle;\n",
       "    }\n",
       "\n",
       "    .dataframe tbody tr th {\n",
       "        vertical-align: top;\n",
       "    }\n",
       "\n",
       "    .dataframe thead th {\n",
       "        text-align: right;\n",
       "    }\n",
       "</style>\n",
       "<table border=\"1\" class=\"dataframe\">\n",
       "  <thead>\n",
       "    <tr style=\"text-align: right;\">\n",
       "      <th></th>\n",
       "      <th>App</th>\n",
       "      <th>Category</th>\n",
       "      <th>Rating</th>\n",
       "      <th>Type</th>\n",
       "      <th>Content Rating</th>\n",
       "      <th>Genres</th>\n",
       "      <th>Last Updated</th>\n",
       "      <th>Current Ver</th>\n",
       "      <th>Android Ver</th>\n",
       "      <th>Size_F</th>\n",
       "      <th>Reviews_I</th>\n",
       "      <th>Install_V</th>\n",
       "      <th>Price_C</th>\n",
       "    </tr>\n",
       "  </thead>\n",
       "  <tbody>\n",
       "    <tr>\n",
       "      <th>3</th>\n",
       "      <td>Sketch - Draw &amp; Paint</td>\n",
       "      <td>ART_AND_DESIGN</td>\n",
       "      <td>4.5</td>\n",
       "      <td>Free</td>\n",
       "      <td>Teen</td>\n",
       "      <td>Art &amp; Design</td>\n",
       "      <td>June 8, 2018</td>\n",
       "      <td>Varies with device</td>\n",
       "      <td>4.2 and up</td>\n",
       "      <td>25000.0</td>\n",
       "      <td>215644</td>\n",
       "      <td>50000000</td>\n",
       "      <td>0.0</td>\n",
       "    </tr>\n",
       "    <tr>\n",
       "      <th>194</th>\n",
       "      <td>OfficeSuite : Free Office + PDF Editor</td>\n",
       "      <td>BUSINESS</td>\n",
       "      <td>4.3</td>\n",
       "      <td>Free</td>\n",
       "      <td>Everyone</td>\n",
       "      <td>Business</td>\n",
       "      <td>August 2, 2018</td>\n",
       "      <td>9.7.14188</td>\n",
       "      <td>4.1 and up</td>\n",
       "      <td>35000.0</td>\n",
       "      <td>1002861</td>\n",
       "      <td>100000000</td>\n",
       "      <td>0.0</td>\n",
       "    </tr>\n",
       "    <tr>\n",
       "      <th>225</th>\n",
       "      <td>Secure Folder</td>\n",
       "      <td>BUSINESS</td>\n",
       "      <td>3.8</td>\n",
       "      <td>Free</td>\n",
       "      <td>Everyone</td>\n",
       "      <td>Business</td>\n",
       "      <td>January 31, 2018</td>\n",
       "      <td>1.1.07.6</td>\n",
       "      <td>7.0 and up</td>\n",
       "      <td>8600.0</td>\n",
       "      <td>14760</td>\n",
       "      <td>50000000</td>\n",
       "      <td>0.0</td>\n",
       "    </tr>\n",
       "    <tr>\n",
       "      <th>293</th>\n",
       "      <td>OfficeSuite : Free Office + PDF Editor</td>\n",
       "      <td>BUSINESS</td>\n",
       "      <td>4.3</td>\n",
       "      <td>Free</td>\n",
       "      <td>Everyone</td>\n",
       "      <td>Business</td>\n",
       "      <td>August 2, 2018</td>\n",
       "      <td>9.7.14188</td>\n",
       "      <td>4.1 and up</td>\n",
       "      <td>35000.0</td>\n",
       "      <td>1002859</td>\n",
       "      <td>100000000</td>\n",
       "      <td>0.0</td>\n",
       "    </tr>\n",
       "    <tr>\n",
       "      <th>346</th>\n",
       "      <td>imo beta free calls and text</td>\n",
       "      <td>COMMUNICATION</td>\n",
       "      <td>4.3</td>\n",
       "      <td>Free</td>\n",
       "      <td>Everyone</td>\n",
       "      <td>Communication</td>\n",
       "      <td>June 7, 2018</td>\n",
       "      <td>9.8.000000010492</td>\n",
       "      <td>4.0 and up</td>\n",
       "      <td>11000.0</td>\n",
       "      <td>659395</td>\n",
       "      <td>100000000</td>\n",
       "      <td>0.0</td>\n",
       "    </tr>\n",
       "    <tr>\n",
       "      <th>...</th>\n",
       "      <td>...</td>\n",
       "      <td>...</td>\n",
       "      <td>...</td>\n",
       "      <td>...</td>\n",
       "      <td>...</td>\n",
       "      <td>...</td>\n",
       "      <td>...</td>\n",
       "      <td>...</td>\n",
       "      <td>...</td>\n",
       "      <td>...</td>\n",
       "      <td>...</td>\n",
       "      <td>...</td>\n",
       "      <td>...</td>\n",
       "    </tr>\n",
       "    <tr>\n",
       "      <th>10378</th>\n",
       "      <td>BMX Boy</td>\n",
       "      <td>GAME</td>\n",
       "      <td>4.2</td>\n",
       "      <td>Free</td>\n",
       "      <td>Everyone</td>\n",
       "      <td>Racing</td>\n",
       "      <td>September 20, 2017</td>\n",
       "      <td>1.16.33</td>\n",
       "      <td>4.1 and up</td>\n",
       "      <td>12000.0</td>\n",
       "      <td>839206</td>\n",
       "      <td>50000000</td>\n",
       "      <td>0.0</td>\n",
       "    </tr>\n",
       "    <tr>\n",
       "      <th>10408</th>\n",
       "      <td>Shoot Hunter-Gun Killer</td>\n",
       "      <td>GAME</td>\n",
       "      <td>4.3</td>\n",
       "      <td>Free</td>\n",
       "      <td>Teen</td>\n",
       "      <td>Action</td>\n",
       "      <td>August 8, 2018</td>\n",
       "      <td>1.1.2</td>\n",
       "      <td>4.1 and up</td>\n",
       "      <td>27000.0</td>\n",
       "      <td>320334</td>\n",
       "      <td>50000000</td>\n",
       "      <td>0.0</td>\n",
       "    </tr>\n",
       "    <tr>\n",
       "      <th>10429</th>\n",
       "      <td>Talking Tom Bubble Shooter</td>\n",
       "      <td>FAMILY</td>\n",
       "      <td>4.4</td>\n",
       "      <td>Free</td>\n",
       "      <td>Everyone</td>\n",
       "      <td>Casual</td>\n",
       "      <td>May 25, 2018</td>\n",
       "      <td>1.5.3.20</td>\n",
       "      <td>4.1 and up</td>\n",
       "      <td>54000.0</td>\n",
       "      <td>687136</td>\n",
       "      <td>50000000</td>\n",
       "      <td>0.0</td>\n",
       "    </tr>\n",
       "    <tr>\n",
       "      <th>10513</th>\n",
       "      <td>Flight Simulator: Fly Plane 3D</td>\n",
       "      <td>FAMILY</td>\n",
       "      <td>4.0</td>\n",
       "      <td>Free</td>\n",
       "      <td>Everyone</td>\n",
       "      <td>Simulation</td>\n",
       "      <td>March 1, 2017</td>\n",
       "      <td>1.32</td>\n",
       "      <td>2.3 and up</td>\n",
       "      <td>21000.0</td>\n",
       "      <td>660613</td>\n",
       "      <td>50000000</td>\n",
       "      <td>0.0</td>\n",
       "    </tr>\n",
       "    <tr>\n",
       "      <th>10549</th>\n",
       "      <td>Toy Truck Rally 3D</td>\n",
       "      <td>GAME</td>\n",
       "      <td>4.0</td>\n",
       "      <td>Free</td>\n",
       "      <td>Everyone</td>\n",
       "      <td>Racing</td>\n",
       "      <td>May 23, 2018</td>\n",
       "      <td>1.4.4</td>\n",
       "      <td>4.1 and up</td>\n",
       "      <td>25000.0</td>\n",
       "      <td>301895</td>\n",
       "      <td>50000000</td>\n",
       "      <td>0.0</td>\n",
       "    </tr>\n",
       "  </tbody>\n",
       "</table>\n",
       "<p>176 rows × 13 columns</p>\n",
       "</div>"
      ],
      "text/plain": [
       "                                          App        Category  Rating  Type  \\\n",
       "3                       Sketch - Draw & Paint  ART_AND_DESIGN     4.5  Free   \n",
       "194    OfficeSuite : Free Office + PDF Editor        BUSINESS     4.3  Free   \n",
       "225                             Secure Folder        BUSINESS     3.8  Free   \n",
       "293    OfficeSuite : Free Office + PDF Editor        BUSINESS     4.3  Free   \n",
       "346              imo beta free calls and text   COMMUNICATION     4.3  Free   \n",
       "...                                       ...             ...     ...   ...   \n",
       "10378                                 BMX Boy            GAME     4.2  Free   \n",
       "10408                 Shoot Hunter-Gun Killer            GAME     4.3  Free   \n",
       "10429              Talking Tom Bubble Shooter          FAMILY     4.4  Free   \n",
       "10513          Flight Simulator: Fly Plane 3D          FAMILY     4.0  Free   \n",
       "10549                      Toy Truck Rally 3D            GAME     4.0  Free   \n",
       "\n",
       "      Content Rating         Genres        Last Updated         Current Ver  \\\n",
       "3               Teen   Art & Design        June 8, 2018  Varies with device   \n",
       "194         Everyone       Business      August 2, 2018           9.7.14188   \n",
       "225         Everyone       Business    January 31, 2018            1.1.07.6   \n",
       "293         Everyone       Business      August 2, 2018           9.7.14188   \n",
       "346         Everyone  Communication        June 7, 2018    9.8.000000010492   \n",
       "...              ...            ...                 ...                 ...   \n",
       "10378       Everyone         Racing  September 20, 2017             1.16.33   \n",
       "10408           Teen         Action      August 8, 2018               1.1.2   \n",
       "10429       Everyone         Casual        May 25, 2018            1.5.3.20   \n",
       "10513       Everyone     Simulation       March 1, 2017                1.32   \n",
       "10549       Everyone         Racing        May 23, 2018               1.4.4   \n",
       "\n",
       "      Android Ver   Size_F  Reviews_I  Install_V  Price_C  \n",
       "3      4.2 and up  25000.0     215644   50000000      0.0  \n",
       "194    4.1 and up  35000.0    1002861  100000000      0.0  \n",
       "225    7.0 and up   8600.0      14760   50000000      0.0  \n",
       "293    4.1 and up  35000.0    1002859  100000000      0.0  \n",
       "346    4.0 and up  11000.0     659395  100000000      0.0  \n",
       "...           ...      ...        ...        ...      ...  \n",
       "10378  4.1 and up  12000.0     839206   50000000      0.0  \n",
       "10408  4.1 and up  27000.0     320334   50000000      0.0  \n",
       "10429  4.1 and up  54000.0     687136   50000000      0.0  \n",
       "10513  2.3 and up  21000.0     660613   50000000      0.0  \n",
       "10549  4.1 and up  25000.0     301895   50000000      0.0  \n",
       "\n",
       "[176 rows x 13 columns]"
      ]
     },
     "execution_count": 28,
     "metadata": {},
     "output_type": "execute_result"
    }
   ],
   "source": [
    "# let me fix my threshold to 90 percentile which is 10000000.0\n",
    "threshold=df.Install_V.quantile(0.9)\n",
    "df[df['Install_V']>threshold]"
   ]
  },
  {
   "cell_type": "markdown",
   "id": "8f7f06f1",
   "metadata": {},
   "source": [
    "> **Observation**\n",
    ">    1. 176 records are installed more than 10000000 users.\n",
    "   "
   ]
  },
  {
   "cell_type": "code",
   "execution_count": 29,
   "id": "6e7b9ae0",
   "metadata": {},
   "outputs": [],
   "source": [
    "# drop 176 records.\n",
    "df.drop(df[df['Install_V']>threshold].index,inplace= True)"
   ]
  },
  {
   "cell_type": "markdown",
   "id": "6f970825",
   "metadata": {},
   "source": [
    "**8. Bivariate analysis: Let’s look at how the available predictors relate to the variable of interest, i.e., our target variable rating. Make scatter plots (for numeric features) and box plots (for character features) to assess the relations between rating and the other features.**\n"
   ]
  },
  {
   "cell_type": "markdown",
   "id": "a3e9c722",
   "metadata": {},
   "source": [
    "*8.1 Make scatter plot/joinplot for Rating vs. Price*\n",
    "*What pattern do you observe? Does rating increase with price?*"
   ]
  },
  {
   "cell_type": "code",
   "execution_count": 30,
   "id": "3f3295a2",
   "metadata": {},
   "outputs": [
    {
     "data": {
      "image/png": "[encoded data removed]",
      "text/plain": [
       "<Figure size 432x432 with 3 Axes>"
      ]
     },
     "metadata": {
      "needs_background": "light"
     },
     "output_type": "display_data"
    }
   ],
   "source": [
    "sns.jointplot(x='Rating',y='Price_C',kind='reg',data=df)\n",
    "mlt.show()"
   ]
  },
  {
   "cell_type": "markdown",
   "id": "c4a1d3fd",
   "metadata": {},
   "source": [
    ">**Observation**\n",
    ">    1. The correlation between Rating and price has left skewed pattern.\n",
    ">    2. Rating is increasing while the price is 0 as well. \n",
    ">        However paid apps ratings are also increasing with price in most of the cases."
   ]
  },
  {
   "cell_type": "markdown",
   "id": "ffc8f871",
   "metadata": {},
   "source": [
    "*8.2 Make scatter plot/joinplot for Rating vs. Size. Are heavier apps rated better?*"
   ]
  },
  {
   "cell_type": "code",
   "execution_count": 31,
   "id": "cdabbc81",
   "metadata": {},
   "outputs": [
    {
     "data": {
      "image/png": "[encoded data removed]",
      "text/plain": [
       "<Figure size 432x432 with 3 Axes>"
      ]
     },
     "metadata": {
      "needs_background": "light"
     },
     "output_type": "display_data"
    }
   ],
   "source": [
    "sns.jointplot(x='Rating', y='Size_F',kind='reg',data=df)\n",
    "mlt.show()"
   ]
  },
  {
   "cell_type": "markdown",
   "id": "d042d205",
   "metadata": {},
   "source": [
    ">**Observation**\n",
    ">    1. Apps having very less size has high variance in rating.\n",
    ">    2. The plot shows that heavier apps has better rating in all the cases.\n",
    ">    3. No correlation between the variable."
   ]
  },
  {
   "cell_type": "markdown",
   "id": "9af670b3",
   "metadata": {},
   "source": [
    "*8.3 Make scatter plot/joinplot for Rating vs. Reviews. Does more review mean a better rating always?*"
   ]
  },
  {
   "cell_type": "code",
   "execution_count": 32,
   "id": "10775dc2",
   "metadata": {},
   "outputs": [
    {
     "data": {
      "image/png": "[encoded data removed]",
      "text/plain": [
       "<Figure size 432x432 with 3 Axes>"
      ]
     },
     "metadata": {
      "needs_background": "light"
     },
     "output_type": "display_data"
    }
   ],
   "source": [
    "sns.jointplot(x='Rating',y='Reviews_I',kind='scatter',data=df)\n",
    "mlt.show()"
   ]
  },
  {
   "cell_type": "markdown",
   "id": "f11aeb61",
   "metadata": {},
   "source": [
    "> **Observation**\n",
    ">    1. The plot derives that more reviews the better rating.\n",
    "    "
   ]
  },
  {
   "cell_type": "markdown",
   "id": "a66b1943",
   "metadata": {},
   "source": [
    "*8.4 Make boxplot for Rating vs. Content Rating. Is there any difference in the ratings? Are some types liked better?*"
   ]
  },
  {
   "cell_type": "code",
   "execution_count": 33,
   "id": "c3d2f144",
   "metadata": {},
   "outputs": [
    {
     "data": {
      "image/png": "[encoded data removed]",
      "text/plain": [
       "<Figure size 432x288 with 1 Axes>"
      ]
     },
     "metadata": {
      "needs_background": "light"
     },
     "output_type": "display_data"
    }
   ],
   "source": [
    "ax= sns.boxplot(x='Content Rating',y='Rating',data=df)\n",
    "ax.set_xticklabels(ax.get_xticklabels(),rotation=45)\n",
    "mlt.show()"
   ]
  },
  {
   "cell_type": "markdown",
   "id": "29a0e380",
   "metadata": {},
   "source": [
    "> **Observation**\n",
    ">    1. There are no much difference with ratings between various content. \n",
    ">    2. However every content type has outliers, whereas 'Adults only 18+' has no outlier and has less variance with the higher ratings.\n",
    ">    3. Therefore we can conclude 'Adults only 18+' type of apps are liked better."
   ]
  },
  {
   "cell_type": "markdown",
   "id": "a3c6e3df",
   "metadata": {},
   "source": [
    "*8.5 Make boxplot for Ratings vs. Category. Which genre has the best ratings?* "
   ]
  },
  {
   "cell_type": "code",
   "execution_count": 34,
   "id": "8f705560",
   "metadata": {},
   "outputs": [
    {
     "data": {
      "image/png": "[encoded data removed]",
      "text/plain": [
       "<Figure size 432x288 with 1 Axes>"
      ]
     },
     "metadata": {
      "needs_background": "light"
     },
     "output_type": "display_data"
    }
   ],
   "source": [
    "ax = sns.boxplot(x='Category', y='Rating', data=df)\n",
    "ax.set_xticklabels(ax.get_xticklabels(),rotation=90)\n",
    "mlt.show()"
   ]
  },
  {
   "cell_type": "markdown",
   "id": "f7661cd1",
   "metadata": {},
   "source": [
    ">**Observation**\n",
    ">    1. 'Events' Category has no outlier and has best ratings as well compared to the other catogories."
   ]
  },
  {
   "cell_type": "markdown",
   "id": "bfcd1fde",
   "metadata": {},
   "source": [
    "**9. Data preprocessing<br>**\n",
    "    *create a copy of the dataframe to make all the edits. Name it inp1.*"
   ]
  },
  {
   "cell_type": "code",
   "execution_count": 25,
   "id": "6b3fd03b",
   "metadata": {},
   "outputs": [
    {
     "data": {
      "text/html": [
       "<div>\n",
       "<style scoped>\n",
       "    .dataframe tbody tr th:only-of-type {\n",
       "        vertical-align: middle;\n",
       "    }\n",
       "\n",
       "    .dataframe tbody tr th {\n",
       "        vertical-align: top;\n",
       "    }\n",
       "\n",
       "    .dataframe thead th {\n",
       "        text-align: right;\n",
       "    }\n",
       "</style>\n",
       "<table border=\"1\" class=\"dataframe\">\n",
       "  <thead>\n",
       "    <tr style=\"text-align: right;\">\n",
       "      <th></th>\n",
       "      <th>App</th>\n",
       "      <th>Category</th>\n",
       "      <th>Rating</th>\n",
       "      <th>Type</th>\n",
       "      <th>Content Rating</th>\n",
       "      <th>Genres</th>\n",
       "      <th>Last Updated</th>\n",
       "      <th>Current Ver</th>\n",
       "      <th>Android Ver</th>\n",
       "      <th>Size_F</th>\n",
       "      <th>Reviews_I</th>\n",
       "      <th>Install_V</th>\n",
       "      <th>Price_C</th>\n",
       "    </tr>\n",
       "  </thead>\n",
       "  <tbody>\n",
       "    <tr>\n",
       "      <th>0</th>\n",
       "      <td>Photo Editor &amp; Candy Camera &amp; Grid &amp; ScrapBook</td>\n",
       "      <td>ART_AND_DESIGN</td>\n",
       "      <td>4.1</td>\n",
       "      <td>Free</td>\n",
       "      <td>Everyone</td>\n",
       "      <td>Art &amp; Design</td>\n",
       "      <td>January 7, 2018</td>\n",
       "      <td>1.0.0</td>\n",
       "      <td>4.0.3 and up</td>\n",
       "      <td>19000.0</td>\n",
       "      <td>159</td>\n",
       "      <td>10000</td>\n",
       "      <td>0.0</td>\n",
       "    </tr>\n",
       "    <tr>\n",
       "      <th>1</th>\n",
       "      <td>Coloring book moana</td>\n",
       "      <td>ART_AND_DESIGN</td>\n",
       "      <td>3.9</td>\n",
       "      <td>Free</td>\n",
       "      <td>Everyone</td>\n",
       "      <td>Art &amp; Design;Pretend Play</td>\n",
       "      <td>January 15, 2018</td>\n",
       "      <td>2.0.0</td>\n",
       "      <td>4.0.3 and up</td>\n",
       "      <td>14000.0</td>\n",
       "      <td>967</td>\n",
       "      <td>500000</td>\n",
       "      <td>0.0</td>\n",
       "    </tr>\n",
       "    <tr>\n",
       "      <th>2</th>\n",
       "      <td>U Launcher Lite – FREE Live Cool Themes, Hide ...</td>\n",
       "      <td>ART_AND_DESIGN</td>\n",
       "      <td>4.7</td>\n",
       "      <td>Free</td>\n",
       "      <td>Everyone</td>\n",
       "      <td>Art &amp; Design</td>\n",
       "      <td>August 1, 2018</td>\n",
       "      <td>1.2.4</td>\n",
       "      <td>4.0.3 and up</td>\n",
       "      <td>8700.0</td>\n",
       "      <td>87510</td>\n",
       "      <td>5000000</td>\n",
       "      <td>0.0</td>\n",
       "    </tr>\n",
       "    <tr>\n",
       "      <th>3</th>\n",
       "      <td>Sketch - Draw &amp; Paint</td>\n",
       "      <td>ART_AND_DESIGN</td>\n",
       "      <td>4.5</td>\n",
       "      <td>Free</td>\n",
       "      <td>Teen</td>\n",
       "      <td>Art &amp; Design</td>\n",
       "      <td>June 8, 2018</td>\n",
       "      <td>Varies with device</td>\n",
       "      <td>4.2 and up</td>\n",
       "      <td>25000.0</td>\n",
       "      <td>215644</td>\n",
       "      <td>50000000</td>\n",
       "      <td>0.0</td>\n",
       "    </tr>\n",
       "    <tr>\n",
       "      <th>4</th>\n",
       "      <td>Pixel Draw - Number Art Coloring Book</td>\n",
       "      <td>ART_AND_DESIGN</td>\n",
       "      <td>4.3</td>\n",
       "      <td>Free</td>\n",
       "      <td>Everyone</td>\n",
       "      <td>Art &amp; Design;Creativity</td>\n",
       "      <td>June 20, 2018</td>\n",
       "      <td>1.1</td>\n",
       "      <td>4.4 and up</td>\n",
       "      <td>2800.0</td>\n",
       "      <td>967</td>\n",
       "      <td>100000</td>\n",
       "      <td>0.0</td>\n",
       "    </tr>\n",
       "  </tbody>\n",
       "</table>\n",
       "</div>"
      ],
      "text/plain": [
       "                                                 App        Category  Rating  \\\n",
       "0     Photo Editor & Candy Camera & Grid & ScrapBook  ART_AND_DESIGN     4.1   \n",
       "1                                Coloring book moana  ART_AND_DESIGN     3.9   \n",
       "2  U Launcher Lite – FREE Live Cool Themes, Hide ...  ART_AND_DESIGN     4.7   \n",
       "3                              Sketch - Draw & Paint  ART_AND_DESIGN     4.5   \n",
       "4              Pixel Draw - Number Art Coloring Book  ART_AND_DESIGN     4.3   \n",
       "\n",
       "   Type Content Rating                     Genres      Last Updated  \\\n",
       "0  Free       Everyone               Art & Design   January 7, 2018   \n",
       "1  Free       Everyone  Art & Design;Pretend Play  January 15, 2018   \n",
       "2  Free       Everyone               Art & Design    August 1, 2018   \n",
       "3  Free           Teen               Art & Design      June 8, 2018   \n",
       "4  Free       Everyone    Art & Design;Creativity     June 20, 2018   \n",
       "\n",
       "          Current Ver   Android Ver   Size_F  Reviews_I  Install_V  Price_C  \n",
       "0               1.0.0  4.0.3 and up  19000.0        159      10000      0.0  \n",
       "1               2.0.0  4.0.3 and up  14000.0        967     500000      0.0  \n",
       "2               1.2.4  4.0.3 and up   8700.0      87510    5000000      0.0  \n",
       "3  Varies with device    4.2 and up  25000.0     215644   50000000      0.0  \n",
       "4                 1.1    4.4 and up   2800.0        967     100000      0.0  "
      ]
     },
     "execution_count": 25,
     "metadata": {},
     "output_type": "execute_result"
    }
   ],
   "source": [
    "inp1 = df\n",
    "inp1.head()"
   ]
  },
  {
   "cell_type": "markdown",
   "id": "d3eac980",
   "metadata": {},
   "source": [
    "*9.1 Reviews and Install have some values that are still relatively very high. \n",
    "     Before building a linear regression model, you need to reduce the skew.\n",
    "     Apply log transformation (np.log1p) to Reviews and Installs.*"
   ]
  },
  {
   "cell_type": "code",
   "execution_count": 36,
   "id": "375e971a",
   "metadata": {},
   "outputs": [
    {
     "data": {
      "text/plain": [
       "0         5.075174\n",
       "1         6.875232\n",
       "2        11.379520\n",
       "4         6.875232\n",
       "5         5.123964\n",
       "           ...    \n",
       "10833     3.806662\n",
       "10834     2.079442\n",
       "10836     3.663562\n",
       "10837     1.609438\n",
       "10840    12.894981\n",
       "Name: Reviews_I, Length: 7307, dtype: float64"
      ]
     },
     "execution_count": 36,
     "metadata": {},
     "output_type": "execute_result"
    }
   ],
   "source": [
    "np.log1p(inp1.Reviews_I)"
   ]
  },
  {
   "cell_type": "code",
   "execution_count": 37,
   "id": "986d7ab5",
   "metadata": {},
   "outputs": [
    {
     "data": {
      "text/plain": [
       "0         9.210440\n",
       "1        13.122365\n",
       "2        15.424949\n",
       "4        11.512935\n",
       "5        10.819798\n",
       "           ...    \n",
       "10833     6.908755\n",
       "10834     6.216606\n",
       "10836     8.517393\n",
       "10837     4.615121\n",
       "10840    16.118096\n",
       "Name: Install_V, Length: 7307, dtype: float64"
      ]
     },
     "execution_count": 37,
     "metadata": {},
     "output_type": "execute_result"
    }
   ],
   "source": [
    "np.log1p(inp1.Install_V)"
   ]
  },
  {
   "cell_type": "markdown",
   "id": "2304a84f",
   "metadata": {},
   "source": [
    "*9.2 Drop columns App, Last Updated, Current Ver, and Android Ver. These variables are not useful for our task.*"
   ]
  },
  {
   "cell_type": "code",
   "execution_count": 26,
   "id": "939ab35a",
   "metadata": {},
   "outputs": [
    {
     "data": {
      "text/html": [
       "<div>\n",
       "<style scoped>\n",
       "    .dataframe tbody tr th:only-of-type {\n",
       "        vertical-align: middle;\n",
       "    }\n",
       "\n",
       "    .dataframe tbody tr th {\n",
       "        vertical-align: top;\n",
       "    }\n",
       "\n",
       "    .dataframe thead th {\n",
       "        text-align: right;\n",
       "    }\n",
       "</style>\n",
       "<table border=\"1\" class=\"dataframe\">\n",
       "  <thead>\n",
       "    <tr style=\"text-align: right;\">\n",
       "      <th></th>\n",
       "      <th>App</th>\n",
       "      <th>Category</th>\n",
       "      <th>Rating</th>\n",
       "      <th>Type</th>\n",
       "      <th>Content Rating</th>\n",
       "      <th>Genres</th>\n",
       "      <th>Size_F</th>\n",
       "      <th>Reviews_I</th>\n",
       "      <th>Install_V</th>\n",
       "      <th>Price_C</th>\n",
       "    </tr>\n",
       "  </thead>\n",
       "  <tbody>\n",
       "    <tr>\n",
       "      <th>0</th>\n",
       "      <td>Photo Editor &amp; Candy Camera &amp; Grid &amp; ScrapBook</td>\n",
       "      <td>ART_AND_DESIGN</td>\n",
       "      <td>4.1</td>\n",
       "      <td>Free</td>\n",
       "      <td>Everyone</td>\n",
       "      <td>Art &amp; Design</td>\n",
       "      <td>19000.0</td>\n",
       "      <td>159</td>\n",
       "      <td>10000</td>\n",
       "      <td>0.0</td>\n",
       "    </tr>\n",
       "    <tr>\n",
       "      <th>1</th>\n",
       "      <td>Coloring book moana</td>\n",
       "      <td>ART_AND_DESIGN</td>\n",
       "      <td>3.9</td>\n",
       "      <td>Free</td>\n",
       "      <td>Everyone</td>\n",
       "      <td>Art &amp; Design;Pretend Play</td>\n",
       "      <td>14000.0</td>\n",
       "      <td>967</td>\n",
       "      <td>500000</td>\n",
       "      <td>0.0</td>\n",
       "    </tr>\n",
       "    <tr>\n",
       "      <th>2</th>\n",
       "      <td>U Launcher Lite – FREE Live Cool Themes, Hide ...</td>\n",
       "      <td>ART_AND_DESIGN</td>\n",
       "      <td>4.7</td>\n",
       "      <td>Free</td>\n",
       "      <td>Everyone</td>\n",
       "      <td>Art &amp; Design</td>\n",
       "      <td>8700.0</td>\n",
       "      <td>87510</td>\n",
       "      <td>5000000</td>\n",
       "      <td>0.0</td>\n",
       "    </tr>\n",
       "    <tr>\n",
       "      <th>3</th>\n",
       "      <td>Sketch - Draw &amp; Paint</td>\n",
       "      <td>ART_AND_DESIGN</td>\n",
       "      <td>4.5</td>\n",
       "      <td>Free</td>\n",
       "      <td>Teen</td>\n",
       "      <td>Art &amp; Design</td>\n",
       "      <td>25000.0</td>\n",
       "      <td>215644</td>\n",
       "      <td>50000000</td>\n",
       "      <td>0.0</td>\n",
       "    </tr>\n",
       "    <tr>\n",
       "      <th>4</th>\n",
       "      <td>Pixel Draw - Number Art Coloring Book</td>\n",
       "      <td>ART_AND_DESIGN</td>\n",
       "      <td>4.3</td>\n",
       "      <td>Free</td>\n",
       "      <td>Everyone</td>\n",
       "      <td>Art &amp; Design;Creativity</td>\n",
       "      <td>2800.0</td>\n",
       "      <td>967</td>\n",
       "      <td>100000</td>\n",
       "      <td>0.0</td>\n",
       "    </tr>\n",
       "  </tbody>\n",
       "</table>\n",
       "</div>"
      ],
      "text/plain": [
       "                                                 App        Category  Rating  \\\n",
       "0     Photo Editor & Candy Camera & Grid & ScrapBook  ART_AND_DESIGN     4.1   \n",
       "1                                Coloring book moana  ART_AND_DESIGN     3.9   \n",
       "2  U Launcher Lite – FREE Live Cool Themes, Hide ...  ART_AND_DESIGN     4.7   \n",
       "3                              Sketch - Draw & Paint  ART_AND_DESIGN     4.5   \n",
       "4              Pixel Draw - Number Art Coloring Book  ART_AND_DESIGN     4.3   \n",
       "\n",
       "   Type Content Rating                     Genres   Size_F  Reviews_I  \\\n",
       "0  Free       Everyone               Art & Design  19000.0        159   \n",
       "1  Free       Everyone  Art & Design;Pretend Play  14000.0        967   \n",
       "2  Free       Everyone               Art & Design   8700.0      87510   \n",
       "3  Free           Teen               Art & Design  25000.0     215644   \n",
       "4  Free       Everyone    Art & Design;Creativity   2800.0        967   \n",
       "\n",
       "   Install_V  Price_C  \n",
       "0      10000      0.0  \n",
       "1     500000      0.0  \n",
       "2    5000000      0.0  \n",
       "3   50000000      0.0  \n",
       "4     100000      0.0  "
      ]
     },
     "execution_count": 26,
     "metadata": {},
     "output_type": "execute_result"
    }
   ],
   "source": [
    "inp1.drop(['Last Updated','Current Ver','Android Ver'],axis=1,inplace=True)\n",
    "inp1.head()"
   ]
  },
  {
   "cell_type": "markdown",
   "id": "e8755cc9",
   "metadata": {},
   "source": [
    "*9.3 Get dummy columns for Category, Genres, and Content Rating. This needs to be done as the models do not understand categorical data, and all data should be numeric. Dummy encoding is one way to convert character fields to numeric.\n",
    "Name of dataframe should be inp2.*"
   ]
  },
  {
   "cell_type": "code",
   "execution_count": 28,
   "id": "9528955e",
   "metadata": {},
   "outputs": [],
   "source": [
    "inp2 = inp1"
   ]
  },
  {
   "cell_type": "code",
   "execution_count": 29,
   "id": "508f1a07",
   "metadata": {},
   "outputs": [],
   "source": [
    "inp2['Genre'] = inp2['Genres'].str.split(';',n=-1,expand=False)\n"
   ]
  },
  {
   "cell_type": "code",
   "execution_count": 30,
   "id": "0385ca4c",
   "metadata": {},
   "outputs": [],
   "source": [
    "inp2.drop('Genres',axis=1,inplace=True)"
   ]
  },
  {
   "cell_type": "code",
   "execution_count": 31,
   "id": "6def6efd",
   "metadata": {},
   "outputs": [
    {
     "data": {
      "text/html": [
       "<div>\n",
       "<style scoped>\n",
       "    .dataframe tbody tr th:only-of-type {\n",
       "        vertical-align: middle;\n",
       "    }\n",
       "\n",
       "    .dataframe tbody tr th {\n",
       "        vertical-align: top;\n",
       "    }\n",
       "\n",
       "    .dataframe thead th {\n",
       "        text-align: right;\n",
       "    }\n",
       "</style>\n",
       "<table border=\"1\" class=\"dataframe\">\n",
       "  <thead>\n",
       "    <tr style=\"text-align: right;\">\n",
       "      <th></th>\n",
       "      <th>App</th>\n",
       "      <th>Category</th>\n",
       "      <th>Rating</th>\n",
       "      <th>Type</th>\n",
       "      <th>Content Rating</th>\n",
       "      <th>Size_F</th>\n",
       "      <th>Reviews_I</th>\n",
       "      <th>Install_V</th>\n",
       "      <th>Price_C</th>\n",
       "      <th>Genre</th>\n",
       "    </tr>\n",
       "  </thead>\n",
       "  <tbody>\n",
       "    <tr>\n",
       "      <th>0</th>\n",
       "      <td>Photo Editor &amp; Candy Camera &amp; Grid &amp; ScrapBook</td>\n",
       "      <td>ART_AND_DESIGN</td>\n",
       "      <td>4.1</td>\n",
       "      <td>Free</td>\n",
       "      <td>Everyone</td>\n",
       "      <td>19000.0</td>\n",
       "      <td>159</td>\n",
       "      <td>10000</td>\n",
       "      <td>0.0</td>\n",
       "      <td>Art &amp; Design</td>\n",
       "    </tr>\n",
       "    <tr>\n",
       "      <th>1</th>\n",
       "      <td>Coloring book moana</td>\n",
       "      <td>ART_AND_DESIGN</td>\n",
       "      <td>3.9</td>\n",
       "      <td>Free</td>\n",
       "      <td>Everyone</td>\n",
       "      <td>14000.0</td>\n",
       "      <td>967</td>\n",
       "      <td>500000</td>\n",
       "      <td>0.0</td>\n",
       "      <td>Art &amp; Design</td>\n",
       "    </tr>\n",
       "    <tr>\n",
       "      <th>1</th>\n",
       "      <td>Coloring book moana</td>\n",
       "      <td>ART_AND_DESIGN</td>\n",
       "      <td>3.9</td>\n",
       "      <td>Free</td>\n",
       "      <td>Everyone</td>\n",
       "      <td>14000.0</td>\n",
       "      <td>967</td>\n",
       "      <td>500000</td>\n",
       "      <td>0.0</td>\n",
       "      <td>Pretend Play</td>\n",
       "    </tr>\n",
       "    <tr>\n",
       "      <th>2</th>\n",
       "      <td>U Launcher Lite – FREE Live Cool Themes, Hide ...</td>\n",
       "      <td>ART_AND_DESIGN</td>\n",
       "      <td>4.7</td>\n",
       "      <td>Free</td>\n",
       "      <td>Everyone</td>\n",
       "      <td>8700.0</td>\n",
       "      <td>87510</td>\n",
       "      <td>5000000</td>\n",
       "      <td>0.0</td>\n",
       "      <td>Art &amp; Design</td>\n",
       "    </tr>\n",
       "    <tr>\n",
       "      <th>3</th>\n",
       "      <td>Sketch - Draw &amp; Paint</td>\n",
       "      <td>ART_AND_DESIGN</td>\n",
       "      <td>4.5</td>\n",
       "      <td>Free</td>\n",
       "      <td>Teen</td>\n",
       "      <td>25000.0</td>\n",
       "      <td>215644</td>\n",
       "      <td>50000000</td>\n",
       "      <td>0.0</td>\n",
       "      <td>Art &amp; Design</td>\n",
       "    </tr>\n",
       "  </tbody>\n",
       "</table>\n",
       "</div>"
      ],
      "text/plain": [
       "                                                 App        Category  Rating  \\\n",
       "0     Photo Editor & Candy Camera & Grid & ScrapBook  ART_AND_DESIGN     4.1   \n",
       "1                                Coloring book moana  ART_AND_DESIGN     3.9   \n",
       "1                                Coloring book moana  ART_AND_DESIGN     3.9   \n",
       "2  U Launcher Lite – FREE Live Cool Themes, Hide ...  ART_AND_DESIGN     4.7   \n",
       "3                              Sketch - Draw & Paint  ART_AND_DESIGN     4.5   \n",
       "\n",
       "   Type Content Rating   Size_F  Reviews_I  Install_V  Price_C         Genre  \n",
       "0  Free       Everyone  19000.0        159      10000      0.0  Art & Design  \n",
       "1  Free       Everyone  14000.0        967     500000      0.0  Art & Design  \n",
       "1  Free       Everyone  14000.0        967     500000      0.0  Pretend Play  \n",
       "2  Free       Everyone   8700.0      87510    5000000      0.0  Art & Design  \n",
       "3  Free           Teen  25000.0     215644   50000000      0.0  Art & Design  "
      ]
     },
     "execution_count": 31,
     "metadata": {},
     "output_type": "execute_result"
    }
   ],
   "source": [
    "inp2=  inp2.explode('Genre')\n",
    "inp2.head()"
   ]
  },
  {
   "cell_type": "code",
   "execution_count": 33,
   "id": "d01fda3b",
   "metadata": {
    "scrolled": true
   },
   "outputs": [
    {
     "data": {
      "text/html": [
       "<div>\n",
       "<style scoped>\n",
       "    .dataframe tbody tr th:only-of-type {\n",
       "        vertical-align: middle;\n",
       "    }\n",
       "\n",
       "    .dataframe tbody tr th {\n",
       "        vertical-align: top;\n",
       "    }\n",
       "\n",
       "    .dataframe thead th {\n",
       "        text-align: right;\n",
       "    }\n",
       "</style>\n",
       "<table border=\"1\" class=\"dataframe\">\n",
       "  <thead>\n",
       "    <tr style=\"text-align: right;\">\n",
       "      <th></th>\n",
       "      <th>App</th>\n",
       "      <th>Rating</th>\n",
       "      <th>Type</th>\n",
       "      <th>Size_F</th>\n",
       "      <th>Reviews_I</th>\n",
       "      <th>Install_V</th>\n",
       "      <th>Price_C</th>\n",
       "      <th>Cate_ART_AND_DESIGN</th>\n",
       "      <th>Cate_AUTO_AND_VEHICLES</th>\n",
       "      <th>Cate_BEAUTY</th>\n",
       "      <th>...</th>\n",
       "      <th>Gen_Trivia</th>\n",
       "      <th>Gen_Video Players &amp; Editors</th>\n",
       "      <th>Gen_Weather</th>\n",
       "      <th>Gen_Word</th>\n",
       "      <th>ConRat_Adults only 18+</th>\n",
       "      <th>ConRat_Everyone</th>\n",
       "      <th>ConRat_Everyone 10+</th>\n",
       "      <th>ConRat_Mature 17+</th>\n",
       "      <th>ConRat_Teen</th>\n",
       "      <th>ConRat_Unrated</th>\n",
       "    </tr>\n",
       "  </thead>\n",
       "  <tbody>\n",
       "    <tr>\n",
       "      <th>0</th>\n",
       "      <td>Photo Editor &amp; Candy Camera &amp; Grid &amp; ScrapBook</td>\n",
       "      <td>4.1</td>\n",
       "      <td>Free</td>\n",
       "      <td>19000.0</td>\n",
       "      <td>159</td>\n",
       "      <td>10000</td>\n",
       "      <td>0.0</td>\n",
       "      <td>1</td>\n",
       "      <td>0</td>\n",
       "      <td>0</td>\n",
       "      <td>...</td>\n",
       "      <td>0</td>\n",
       "      <td>0</td>\n",
       "      <td>0</td>\n",
       "      <td>0</td>\n",
       "      <td>0</td>\n",
       "      <td>1</td>\n",
       "      <td>0</td>\n",
       "      <td>0</td>\n",
       "      <td>0</td>\n",
       "      <td>0</td>\n",
       "    </tr>\n",
       "    <tr>\n",
       "      <th>1</th>\n",
       "      <td>Coloring book moana</td>\n",
       "      <td>3.9</td>\n",
       "      <td>Free</td>\n",
       "      <td>14000.0</td>\n",
       "      <td>967</td>\n",
       "      <td>500000</td>\n",
       "      <td>0.0</td>\n",
       "      <td>1</td>\n",
       "      <td>0</td>\n",
       "      <td>0</td>\n",
       "      <td>...</td>\n",
       "      <td>0</td>\n",
       "      <td>0</td>\n",
       "      <td>0</td>\n",
       "      <td>0</td>\n",
       "      <td>0</td>\n",
       "      <td>1</td>\n",
       "      <td>0</td>\n",
       "      <td>0</td>\n",
       "      <td>0</td>\n",
       "      <td>0</td>\n",
       "    </tr>\n",
       "    <tr>\n",
       "      <th>1</th>\n",
       "      <td>Coloring book moana</td>\n",
       "      <td>3.9</td>\n",
       "      <td>Free</td>\n",
       "      <td>14000.0</td>\n",
       "      <td>967</td>\n",
       "      <td>500000</td>\n",
       "      <td>0.0</td>\n",
       "      <td>1</td>\n",
       "      <td>0</td>\n",
       "      <td>0</td>\n",
       "      <td>...</td>\n",
       "      <td>0</td>\n",
       "      <td>0</td>\n",
       "      <td>0</td>\n",
       "      <td>0</td>\n",
       "      <td>0</td>\n",
       "      <td>1</td>\n",
       "      <td>0</td>\n",
       "      <td>0</td>\n",
       "      <td>0</td>\n",
       "      <td>0</td>\n",
       "    </tr>\n",
       "    <tr>\n",
       "      <th>2</th>\n",
       "      <td>U Launcher Lite – FREE Live Cool Themes, Hide ...</td>\n",
       "      <td>4.7</td>\n",
       "      <td>Free</td>\n",
       "      <td>8700.0</td>\n",
       "      <td>87510</td>\n",
       "      <td>5000000</td>\n",
       "      <td>0.0</td>\n",
       "      <td>1</td>\n",
       "      <td>0</td>\n",
       "      <td>0</td>\n",
       "      <td>...</td>\n",
       "      <td>0</td>\n",
       "      <td>0</td>\n",
       "      <td>0</td>\n",
       "      <td>0</td>\n",
       "      <td>0</td>\n",
       "      <td>1</td>\n",
       "      <td>0</td>\n",
       "      <td>0</td>\n",
       "      <td>0</td>\n",
       "      <td>0</td>\n",
       "    </tr>\n",
       "    <tr>\n",
       "      <th>3</th>\n",
       "      <td>Sketch - Draw &amp; Paint</td>\n",
       "      <td>4.5</td>\n",
       "      <td>Free</td>\n",
       "      <td>25000.0</td>\n",
       "      <td>215644</td>\n",
       "      <td>50000000</td>\n",
       "      <td>0.0</td>\n",
       "      <td>1</td>\n",
       "      <td>0</td>\n",
       "      <td>0</td>\n",
       "      <td>...</td>\n",
       "      <td>0</td>\n",
       "      <td>0</td>\n",
       "      <td>0</td>\n",
       "      <td>0</td>\n",
       "      <td>0</td>\n",
       "      <td>0</td>\n",
       "      <td>0</td>\n",
       "      <td>0</td>\n",
       "      <td>1</td>\n",
       "      <td>0</td>\n",
       "    </tr>\n",
       "  </tbody>\n",
       "</table>\n",
       "<p>5 rows × 99 columns</p>\n",
       "</div>"
      ],
      "text/plain": [
       "                                                 App  Rating  Type   Size_F  \\\n",
       "0     Photo Editor & Candy Camera & Grid & ScrapBook     4.1  Free  19000.0   \n",
       "1                                Coloring book moana     3.9  Free  14000.0   \n",
       "1                                Coloring book moana     3.9  Free  14000.0   \n",
       "2  U Launcher Lite – FREE Live Cool Themes, Hide ...     4.7  Free   8700.0   \n",
       "3                              Sketch - Draw & Paint     4.5  Free  25000.0   \n",
       "\n",
       "   Reviews_I  Install_V  Price_C  Cate_ART_AND_DESIGN  Cate_AUTO_AND_VEHICLES  \\\n",
       "0        159      10000      0.0                    1                       0   \n",
       "1        967     500000      0.0                    1                       0   \n",
       "1        967     500000      0.0                    1                       0   \n",
       "2      87510    5000000      0.0                    1                       0   \n",
       "3     215644   50000000      0.0                    1                       0   \n",
       "\n",
       "   Cate_BEAUTY  ...  Gen_Trivia  Gen_Video Players & Editors  Gen_Weather  \\\n",
       "0            0  ...           0                            0            0   \n",
       "1            0  ...           0                            0            0   \n",
       "1            0  ...           0                            0            0   \n",
       "2            0  ...           0                            0            0   \n",
       "3            0  ...           0                            0            0   \n",
       "\n",
       "   Gen_Word  ConRat_Adults only 18+  ConRat_Everyone  ConRat_Everyone 10+  \\\n",
       "0         0                       0                1                    0   \n",
       "1         0                       0                1                    0   \n",
       "1         0                       0                1                    0   \n",
       "2         0                       0                1                    0   \n",
       "3         0                       0                0                    0   \n",
       "\n",
       "   ConRat_Mature 17+  ConRat_Teen  ConRat_Unrated  \n",
       "0                  0            0               0  \n",
       "1                  0            0               0  \n",
       "1                  0            0               0  \n",
       "2                  0            0               0  \n",
       "3                  0            1               0  \n",
       "\n",
       "[5 rows x 99 columns]"
      ]
     },
     "execution_count": 33,
     "metadata": {},
     "output_type": "execute_result"
    }
   ],
   "source": [
    "inp2_dummies= pd.get_dummies(data=inp2,prefix=['Cate','Gen','ConRat'],prefix_sep='_',\n",
    "                             columns=['Category','Genre','Content Rating'])\n",
    "inp2_dummies.head()"
   ]
  },
  {
   "cell_type": "markdown",
   "id": "f3dd067c",
   "metadata": {},
   "source": [
    "***Save the target variable in y. In our Data set Rating is the Target Variable.Then save other independent variables in X.***"
   ]
  },
  {
   "cell_type": "code",
   "execution_count": 34,
   "id": "de96c292",
   "metadata": {},
   "outputs": [
    {
     "data": {
      "text/html": [
       "<div>\n",
       "<style scoped>\n",
       "    .dataframe tbody tr th:only-of-type {\n",
       "        vertical-align: middle;\n",
       "    }\n",
       "\n",
       "    .dataframe tbody tr th {\n",
       "        vertical-align: top;\n",
       "    }\n",
       "\n",
       "    .dataframe thead th {\n",
       "        text-align: right;\n",
       "    }\n",
       "</style>\n",
       "<table border=\"1\" class=\"dataframe\">\n",
       "  <thead>\n",
       "    <tr style=\"text-align: right;\">\n",
       "      <th></th>\n",
       "      <th>Size_F</th>\n",
       "      <th>Reviews_I</th>\n",
       "      <th>Install_V</th>\n",
       "      <th>Price_C</th>\n",
       "      <th>Cate_ART_AND_DESIGN</th>\n",
       "      <th>Cate_AUTO_AND_VEHICLES</th>\n",
       "      <th>Cate_BEAUTY</th>\n",
       "      <th>Cate_BOOKS_AND_REFERENCE</th>\n",
       "      <th>Cate_BUSINESS</th>\n",
       "      <th>Cate_COMICS</th>\n",
       "      <th>...</th>\n",
       "      <th>Gen_Trivia</th>\n",
       "      <th>Gen_Video Players &amp; Editors</th>\n",
       "      <th>Gen_Weather</th>\n",
       "      <th>Gen_Word</th>\n",
       "      <th>ConRat_Adults only 18+</th>\n",
       "      <th>ConRat_Everyone</th>\n",
       "      <th>ConRat_Everyone 10+</th>\n",
       "      <th>ConRat_Mature 17+</th>\n",
       "      <th>ConRat_Teen</th>\n",
       "      <th>ConRat_Unrated</th>\n",
       "    </tr>\n",
       "  </thead>\n",
       "  <tbody>\n",
       "    <tr>\n",
       "      <th>0</th>\n",
       "      <td>19000.0</td>\n",
       "      <td>159</td>\n",
       "      <td>10000</td>\n",
       "      <td>0.0</td>\n",
       "      <td>1</td>\n",
       "      <td>0</td>\n",
       "      <td>0</td>\n",
       "      <td>0</td>\n",
       "      <td>0</td>\n",
       "      <td>0</td>\n",
       "      <td>...</td>\n",
       "      <td>0</td>\n",
       "      <td>0</td>\n",
       "      <td>0</td>\n",
       "      <td>0</td>\n",
       "      <td>0</td>\n",
       "      <td>1</td>\n",
       "      <td>0</td>\n",
       "      <td>0</td>\n",
       "      <td>0</td>\n",
       "      <td>0</td>\n",
       "    </tr>\n",
       "    <tr>\n",
       "      <th>1</th>\n",
       "      <td>14000.0</td>\n",
       "      <td>967</td>\n",
       "      <td>500000</td>\n",
       "      <td>0.0</td>\n",
       "      <td>1</td>\n",
       "      <td>0</td>\n",
       "      <td>0</td>\n",
       "      <td>0</td>\n",
       "      <td>0</td>\n",
       "      <td>0</td>\n",
       "      <td>...</td>\n",
       "      <td>0</td>\n",
       "      <td>0</td>\n",
       "      <td>0</td>\n",
       "      <td>0</td>\n",
       "      <td>0</td>\n",
       "      <td>1</td>\n",
       "      <td>0</td>\n",
       "      <td>0</td>\n",
       "      <td>0</td>\n",
       "      <td>0</td>\n",
       "    </tr>\n",
       "    <tr>\n",
       "      <th>1</th>\n",
       "      <td>14000.0</td>\n",
       "      <td>967</td>\n",
       "      <td>500000</td>\n",
       "      <td>0.0</td>\n",
       "      <td>1</td>\n",
       "      <td>0</td>\n",
       "      <td>0</td>\n",
       "      <td>0</td>\n",
       "      <td>0</td>\n",
       "      <td>0</td>\n",
       "      <td>...</td>\n",
       "      <td>0</td>\n",
       "      <td>0</td>\n",
       "      <td>0</td>\n",
       "      <td>0</td>\n",
       "      <td>0</td>\n",
       "      <td>1</td>\n",
       "      <td>0</td>\n",
       "      <td>0</td>\n",
       "      <td>0</td>\n",
       "      <td>0</td>\n",
       "    </tr>\n",
       "    <tr>\n",
       "      <th>2</th>\n",
       "      <td>8700.0</td>\n",
       "      <td>87510</td>\n",
       "      <td>5000000</td>\n",
       "      <td>0.0</td>\n",
       "      <td>1</td>\n",
       "      <td>0</td>\n",
       "      <td>0</td>\n",
       "      <td>0</td>\n",
       "      <td>0</td>\n",
       "      <td>0</td>\n",
       "      <td>...</td>\n",
       "      <td>0</td>\n",
       "      <td>0</td>\n",
       "      <td>0</td>\n",
       "      <td>0</td>\n",
       "      <td>0</td>\n",
       "      <td>1</td>\n",
       "      <td>0</td>\n",
       "      <td>0</td>\n",
       "      <td>0</td>\n",
       "      <td>0</td>\n",
       "    </tr>\n",
       "    <tr>\n",
       "      <th>3</th>\n",
       "      <td>25000.0</td>\n",
       "      <td>215644</td>\n",
       "      <td>50000000</td>\n",
       "      <td>0.0</td>\n",
       "      <td>1</td>\n",
       "      <td>0</td>\n",
       "      <td>0</td>\n",
       "      <td>0</td>\n",
       "      <td>0</td>\n",
       "      <td>0</td>\n",
       "      <td>...</td>\n",
       "      <td>0</td>\n",
       "      <td>0</td>\n",
       "      <td>0</td>\n",
       "      <td>0</td>\n",
       "      <td>0</td>\n",
       "      <td>0</td>\n",
       "      <td>0</td>\n",
       "      <td>0</td>\n",
       "      <td>1</td>\n",
       "      <td>0</td>\n",
       "    </tr>\n",
       "  </tbody>\n",
       "</table>\n",
       "<p>5 rows × 96 columns</p>\n",
       "</div>"
      ],
      "text/plain": [
       "    Size_F  Reviews_I  Install_V  Price_C  Cate_ART_AND_DESIGN  \\\n",
       "0  19000.0        159      10000      0.0                    1   \n",
       "1  14000.0        967     500000      0.0                    1   \n",
       "1  14000.0        967     500000      0.0                    1   \n",
       "2   8700.0      87510    5000000      0.0                    1   \n",
       "3  25000.0     215644   50000000      0.0                    1   \n",
       "\n",
       "   Cate_AUTO_AND_VEHICLES  Cate_BEAUTY  Cate_BOOKS_AND_REFERENCE  \\\n",
       "0                       0            0                         0   \n",
       "1                       0            0                         0   \n",
       "1                       0            0                         0   \n",
       "2                       0            0                         0   \n",
       "3                       0            0                         0   \n",
       "\n",
       "   Cate_BUSINESS  Cate_COMICS  ...  Gen_Trivia  Gen_Video Players & Editors  \\\n",
       "0              0            0  ...           0                            0   \n",
       "1              0            0  ...           0                            0   \n",
       "1              0            0  ...           0                            0   \n",
       "2              0            0  ...           0                            0   \n",
       "3              0            0  ...           0                            0   \n",
       "\n",
       "   Gen_Weather  Gen_Word  ConRat_Adults only 18+  ConRat_Everyone  \\\n",
       "0            0         0                       0                1   \n",
       "1            0         0                       0                1   \n",
       "1            0         0                       0                1   \n",
       "2            0         0                       0                1   \n",
       "3            0         0                       0                0   \n",
       "\n",
       "   ConRat_Everyone 10+  ConRat_Mature 17+  ConRat_Teen  ConRat_Unrated  \n",
       "0                    0                  0            0               0  \n",
       "1                    0                  0            0               0  \n",
       "1                    0                  0            0               0  \n",
       "2                    0                  0            0               0  \n",
       "3                    0                  0            1               0  \n",
       "\n",
       "[5 rows x 96 columns]"
      ]
     },
     "execution_count": 34,
     "metadata": {},
     "output_type": "execute_result"
    }
   ],
   "source": [
    "\n",
    "X = inp2_dummies.drop('Rating',axis=1)\n",
    "X.drop(['App','Type'],axis=1,inplace=True)\n",
    "X.head()"
   ]
  },
  {
   "cell_type": "code",
   "execution_count": 35,
   "id": "82c435d4",
   "metadata": {},
   "outputs": [
    {
     "data": {
      "text/plain": [
       "0    4.1\n",
       "1    3.9\n",
       "1    3.9\n",
       "2    4.7\n",
       "3    4.5\n",
       "Name: Rating, dtype: float64"
      ]
     },
     "execution_count": 35,
     "metadata": {},
     "output_type": "execute_result"
    }
   ],
   "source": [
    "y = inp2_dummies['Rating']\n",
    "y.head()"
   ]
  },
  {
   "cell_type": "markdown",
   "id": "fe41cb1d",
   "metadata": {},
   "source": [
    "**10. Train test split  and apply 70-30 split. Name the new dataframes df_train and df_test.<br>**\n",
    "**11. Separate the dataframes into X_train, y_train, X_test, and y_test.**"
   ]
  },
  {
   "cell_type": "code",
   "execution_count": 46,
   "id": "3ac82fdd",
   "metadata": {},
   "outputs": [
    {
     "name": "stdout",
     "output_type": "stream",
     "text": [
      "X_train :  (5391, 96)\n",
      "X_test :  (2311, 96)\n",
      "y_train :  (5391,)\n",
      "y_test :  (2311,)\n"
     ]
    }
   ],
   "source": [
    "X_train, X_test, y_train, y_test = train_test_split(X, y, test_size=0.3, random_state=0)\n",
    "\n",
    "print(\"X_train : \",X_train.shape)\n",
    "\n",
    "print(\"X_test : \",X_test.shape)\n",
    "\n",
    "print(\"y_train : \",y_train.shape)\n",
    "\n",
    "print(\"y_test : \",y_test.shape)"
   ]
  },
  {
   "cell_type": "markdown",
   "id": "6ac9f113",
   "metadata": {},
   "source": [
    ">* The Data set has been split as Train and test data with 70:30 Ratio.\n",
    ">* The shapes have been printed as the output.\n"
   ]
  },
  {
   "cell_type": "markdown",
   "id": "0243d760",
   "metadata": {},
   "source": [
    "**12. Model building<br>**\n",
    "\n",
    "    12.1 Use linear regression as the technique\n",
    "\n",
    "    12.2 Report the R2 on the train set"
   ]
  },
  {
   "cell_type": "code",
   "execution_count": 47,
   "id": "15748c23",
   "metadata": {},
   "outputs": [],
   "source": [
    "regr = linear_model.LinearRegression()\n"
   ]
  },
  {
   "cell_type": "markdown",
   "id": "24828dae",
   "metadata": {},
   "source": [
    "> * We now created an instance of the model, which we did simply calling the LinearRegression function from Scikit-Learn:\n",
    "> * We now fit the model on the training data"
   ]
  },
  {
   "cell_type": "code",
   "execution_count": 48,
   "id": "7954f8a9",
   "metadata": {},
   "outputs": [
    {
     "data": {
      "text/plain": [
       "LinearRegression()"
      ]
     },
     "execution_count": 48,
     "metadata": {},
     "output_type": "execute_result"
    }
   ],
   "source": [
    "regr.fit(X_train, y_train)"
   ]
  },
  {
   "cell_type": "code",
   "execution_count": 49,
   "id": "fc85247a",
   "metadata": {},
   "outputs": [
    {
     "name": "stdout",
     "output_type": "stream",
     "text": [
      "Train set R2 score:  0.061991881713338026\n"
     ]
    }
   ],
   "source": [
    "pred = regr.predict(X_train)\n",
    "train_set_r2 = r2_score(y_train,pred)\n",
    "print('Train set R2 score: ',train_set_r2)"
   ]
  },
  {
   "cell_type": "markdown",
   "id": "fb5ea252",
   "metadata": {},
   "source": [
    "> **Train Set R2 Score is 0.06199**\n",
    ">* R2 Value The closer towards 1, the better the fit\n",
    ">* Now that the model has been fit we can make predictions by calling the predict command. \n",
    "    We are making predictions on the testing set:"
   ]
  },
  {
   "cell_type": "code",
   "execution_count": 50,
   "id": "92e80b5b",
   "metadata": {},
   "outputs": [],
   "source": [
    "pred = regr.predict(X_test)"
   ]
  },
  {
   "cell_type": "code",
   "execution_count": 51,
   "id": "f543ea5f",
   "metadata": {},
   "outputs": [
    {
     "name": "stdout",
     "output_type": "stream",
     "text": [
      "Test set R2 score:  0.04888903261408328\n"
     ]
    }
   ],
   "source": [
    "test_set_r2 = r2_score(y_test,pred)\n",
    "print('Test set R2 score: ',test_set_r2)"
   ]
  },
  {
   "cell_type": "markdown",
   "id": "b2dab1db",
   "metadata": {},
   "source": [
    "> **Test set R2 Score is 0.04888**"
   ]
  },
  {
   "cell_type": "markdown",
   "id": "b7e4c88d",
   "metadata": {},
   "source": [
    "> ## Submitted By: Prathipa J"
   ]
  }
 ],
 "metadata": {
  "kernelspec": {
   "display_name": "Python 3 (ipykernel)",
   "language": "python",
   "name": "python3"
  },
  "language_info": {
   "codemirror_mode": {
    "name": "ipython",
    "version": 3
   },
   "file_extension": ".py",
   "mimetype": "text/x-python",
   "name": "python",
   "nbconvert_exporter": "python",
   "pygments_lexer": "ipython3",
   "version": "3.9.7"
  }
 },
 "nbformat": 4,
 "nbformat_minor": 5
}
